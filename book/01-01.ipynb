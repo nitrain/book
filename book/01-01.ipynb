{
 "cells": [
  {
   "cell_type": "markdown",
   "metadata": {},
   "source": [
    "# Imaging libraries\n",
    "\n",
    "Before you can train models on medical imaging datasets, it's important to learn how to handle medical images in Python. That primarily entails reading and writing medical imaging files. Additionally, it can be helpful to have a good set of tools for visualizing and operating on medical images once read into memory. \n",
    "\n",
    "This section will teach you how to handle medical images in Python using the `ants` library available at https://www.github.com/antsx/antspy. Advanced normalization tools (ANTs) is a well-established ecosystem for processing and analyzing medical images in C++, Python, and R. The Python version of ANTs lets you read medical images in a way that inter-operates seamlessly with numpy and tensors such as those from tensorflow or torch."
   ]
  },
  {
   "cell_type": "markdown",
   "metadata": {},
   "source": [
    "## Installing antspy\n",
    "\n",
    "To install `ants` in python, you can use pip:"
   ]
  },
  {
   "cell_type": "code",
   "execution_count": 4,
   "metadata": {},
   "outputs": [],
   "source": [
    "%%script false --no-raise-error\n",
    "\n",
    "!pip install antspyx"
   ]
  }
 ],
 "metadata": {
  "kernelspec": {
   "display_name": "Python 3",
   "language": "python",
   "name": "python3"
  },
  "language_info": {
   "codemirror_mode": {
    "name": "ipython",
    "version": 3
   },
   "file_extension": ".py",
   "mimetype": "text/x-python",
   "name": "python",
   "nbconvert_exporter": "python",
   "pygments_lexer": "ipython3",
   "version": "3.11.5"
  },
  "widgets": {
   "application/vnd.jupyter.widget-state+json": {
    "state": {},
    "version_major": 2,
    "version_minor": 0
   }
  }
 },
 "nbformat": 4,
 "nbformat_minor": 4
}
