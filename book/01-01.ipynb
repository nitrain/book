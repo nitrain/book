{
 "cells": [
  {
   "cell_type": "markdown",
   "metadata": {},
   "source": [
    "# Overview\n",
    "\n",
    "This section will teach you how to handle individual medical images in Python. Your life as a medical imaging AI expert will be so much easier if you have a good grasp on a library that lets you handle medical images. That primarily entails reading and writing medical imaging files. \n",
    "\n",
    "Additionally, it can be helpful to have a good set of tools for visualizing and operating on medical images once read into memory. And in more rare cases, you may also need to actually perform some medical image processing (e.g., segmentation, registration) using established libraries. "
   ]
  },
  {
   "cell_type": "markdown",
   "metadata": {},
   "source": [
    "## Using nitrain-image\n",
    "\n",
    "Nitrain-image is a numpy-like library in Python that lets you read / write, visualize, and operate on medical images in a natural, pythonic way. It is built upon the well-established Insight Toolkit (ITK) which makes it powerful and fast.\n",
    "\n",
    "We will be using the nitrain-image library in this book for handling medical images. Later on, you will see how easy it is to create augmentation transforms for model training after having learned the basics of nitrain-image. \n",
    "\n",
    "It is available at [nitrain/nitrain-image](www.github.com/antsx/antspy). To install `nitrain-image` in python, you can use pip:"
   ]
  },
  {
   "cell_type": "code",
   "execution_count": 4,
   "metadata": {},
   "outputs": [],
   "source": [
    "%%script false --no-raise-error\n",
    "\n",
    "!pip install nitrain-image"
   ]
  },
  {
   "cell_type": "markdown",
   "metadata": {},
   "source": [
    "## Other libraries\n",
    "\n",
    "The first part of this book will teach you how to use nitrain-image to handle medical images in Python, which is important because the nitrain library you will learn later builds heavily on top of nitrain-image for creating transforms. However, nitrain-image is by no means the only library for medical imaging. There are a few others worth considering:\n",
    "\n",
    "- ITK\n",
    "- AntsPy\n",
    "- Nibabel\n",
    "\n",
    "The ITK library is available in Python but has quite a high learning curve and is not very pythonic in its usage. Additionally, ITK has very particular conventions regarding how images are stored so if you're not an expert in it then it's easy to go wrong.\n",
    "\n",
    "Like nitrain-image, AntsPy is also built on top of ITK and provides more functionality like traditional registration and segmentation algorithms. However, AntsPy lacks the intuitive and stardardized pythonic api like nitrain-image has which makes it easy to use from the start.  \n",
    "\n",
    "The nibabel library has been around for a long time and is what you will most commonly see in the community if you work on neuroimaging data in particular. It is a fairly straight-forward library that is easy to get started with. However, it is a bit limited in slope and it is actually quite a bit slower compared to nitrain-image."
   ]
  },
  {
   "cell_type": "markdown",
   "metadata": {},
   "source": []
  }
 ],
 "metadata": {
  "kernelspec": {
   "display_name": "Python 3",
   "language": "python",
   "name": "python3"
  },
  "language_info": {
   "codemirror_mode": {
    "name": "ipython",
    "version": 3
   },
   "file_extension": ".py",
   "mimetype": "text/x-python",
   "name": "python",
   "nbconvert_exporter": "python",
   "pygments_lexer": "ipython3",
   "version": "3.11.5"
  },
  "widgets": {
   "application/vnd.jupyter.widget-state+json": {
    "state": {},
    "version_major": 2,
    "version_minor": 0
   }
  }
 },
 "nbformat": 4,
 "nbformat_minor": 4
}
