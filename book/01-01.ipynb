{
 "cells": [
  {
   "cell_type": "markdown",
   "metadata": {},
   "source": [
    "# 1. Introduction\n",
    "\n",
    "This section will teach you how to handle individual medical images in Python. Your life as a medical imaging AI expert will be so much easier if you have a good grasp on a library that lets you handle medical images. That primarily entails reading and writing medical imaging files. \n",
    "\n",
    "Additionally, it can be helpful to have a good set of tools for visualizing and operating on medical images once read into memory. And in more rare cases, you may also need to actually perform some medical image processing (e.g., segmentation, registration) using established libraries. "
   ]
  },
  {
   "cell_type": "markdown",
   "metadata": {},
   "source": [
    "## Installation\n",
    "\n",
    "Advanced normalization tools (ANTs) is a well-established ecosystem for processing and analyzing medical images in C++, Python, and R. The Python version of ANTs lets you read medical images in a way that inter-operates seamlessly with numpy and other tensor libraries such as pytorch. \n",
    "\n",
    "We will be using the ANTsPy library in this book for handling medical images. It is available at [ANTsX/ANTsPy](github.com/antsx/antspy). \n",
    "\n",
    "To install `ants` in python, you can use pip:"
   ]
  },
  {
   "cell_type": "code",
   "execution_count": 4,
   "metadata": {},
   "outputs": [],
   "source": [
    "%%script false --no-raise-error\n",
    "\n",
    "!pip install antspyx"
   ]
  },
  {
   "cell_type": "markdown",
   "metadata": {},
   "source": [
    "## Other libraries\n",
    "\n",
    "The first part of this book will teach you how to use ants to handle medical images in Python, which is important because the nitrain library you will learn later builds heavily on top of ants. However, ants is by no means the only library for medical imaging. There are a few others worth considering:\n",
    "\n",
    "- ITK\n",
    "- Nibabel\n",
    "\n",
    "The ants library is built on top of ITK, so you can consider ants to be a sort of high-level wrapper over ITK just as nitrain is a high-level wrapper over pytorch. ITK has a very steep learning curve, so it is only really recommended for users that have a very strong medical imaging background or who already know ITK.\n",
    "\n",
    "The nibabel library has been around for a long time and is what you will most commonly see in the community if you work on neuroimaging data in particular. It is a fairly straight-forward library that is easy to get started with. However, it is a bit limited in slope and it is actually quite a bit slower compared to ants."
   ]
  },
  {
   "cell_type": "markdown",
   "metadata": {},
   "source": []
  }
 ],
 "metadata": {
  "kernelspec": {
   "display_name": "Python 3",
   "language": "python",
   "name": "python3"
  },
  "language_info": {
   "codemirror_mode": {
    "name": "ipython",
    "version": 3
   },
   "file_extension": ".py",
   "mimetype": "text/x-python",
   "name": "python",
   "nbconvert_exporter": "python",
   "pygments_lexer": "ipython3",
   "version": "3.11.5"
  },
  "widgets": {
   "application/vnd.jupyter.widget-state+json": {
    "state": {},
    "version_major": 2,
    "version_minor": 0
   }
  }
 },
 "nbformat": 4,
 "nbformat_minor": 4
}
