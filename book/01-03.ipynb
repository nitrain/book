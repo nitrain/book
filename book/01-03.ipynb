{
 "cells": [
  {
   "cell_type": "markdown",
   "metadata": {},
   "source": [
    "# Basic operations\n",
    "\n",
    "With the ants library, you can operate on medical images almost exactly how you would with numpy arrays. In this chapter, you will get an overview of the various operations that you can perform. This includes function that change the value or the structure of individual medical images, as well as functions that can operate on multiple images together.\n",
    "\n",
    "To start, let's create an image that we will work with throughout the chapter. It will a completely empty image full of zeros."
   ]
  },
  {
   "cell_type": "code",
   "execution_count": 2,
   "metadata": {},
   "outputs": [],
   "source": [
    "import ants\n",
    "import numpy as np\n",
    "img = ants.from_numpy(np.zeros((100,100)))"
   ]
  },
  {
   "cell_type": "markdown",
   "metadata": {},
   "source": [
    "## Math operations\n",
    "\n",
    "You can perform basic math operations on an ants image exactly as you would with a numpy array. "
   ]
  },
  {
   "cell_type": "markdown",
   "metadata": {},
   "source": [
    "### Multiple images\n",
    "\n",
    "It is also possible to do basic math with more than one image. Note, however, that math operations on two images are only valid if those two images are in the same \"physical space\" -- i.e., they have the same origin, spacing, and orientation. If they are not, you must put them in the same physical space before operating on them. Luckily, the types of images you perform these operations on are typically in the same physical space already.\n"
   ]
  },
  {
   "cell_type": "markdown",
   "metadata": {},
   "source": [
    "## Indexing\n",
    "\n",
    "Indexing medical images can be done similarly to arrays. The important thing to remember is that indexing an ants images actually converts it to a numpy array.\n",
    "\n"
   ]
  },
  {
   "cell_type": "markdown",
   "metadata": {},
   "source": [
    "## Image operations\n",
    "\n",
    "Image operations are functions unique to medical imaging without a similar counterpart in numpy. Such functions exist because medical images (and images in general) have a more meaningful and structured interpretation compared to normal arrays. This includes morphological functions such as opening and closing, for instance."
   ]
  }
 ],
 "metadata": {
  "kernelspec": {
   "display_name": ".venv",
   "language": "python",
   "name": "python3"
  },
  "language_info": {
   "codemirror_mode": {
    "name": "ipython",
    "version": 3
   },
   "file_extension": ".py",
   "mimetype": "text/x-python",
   "name": "python",
   "nbconvert_exporter": "python",
   "pygments_lexer": "ipython3",
   "version": "3.11.5"
  }
 },
 "nbformat": 4,
 "nbformat_minor": 2
}
