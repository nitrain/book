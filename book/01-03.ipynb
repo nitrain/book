{
 "cells": [
  {
   "cell_type": "markdown",
   "metadata": {},
   "source": [
    "# Basic operations\n",
    "\n",
    "With the ants library, you can operate on medical images almost exactly how you would with numpy arrays. In this chapter, you will get an overview of the various operations that you can perform. This includes function that change the value or the structure of individual medical images, as well as functions that can operate on multiple images together.\n",
    "\n",
    "To start, let's create an image that we will work with throughout the chapter. It will a completely empty image full of zeros."
   ]
  },
  {
   "cell_type": "code",
   "execution_count": 15,
   "metadata": {},
   "outputs": [],
   "source": [
    "import ants\n",
    "import numpy as np\n",
    "img = ants.from_numpy(np.zeros((100,100)))"
   ]
  },
  {
   "cell_type": "markdown",
   "metadata": {},
   "source": [
    "## Math operations\n",
    "\n",
    "You can perform basic math operations on an ants image exactly as you would with a numpy array. That means addition, subtraction, multiplication, etc. of scalar values to the image will work as you expect. The main numpy array functions such as mean, sum, min, max, etc. are also available to you."
   ]
  },
  {
   "cell_type": "code",
   "execution_count": 16,
   "metadata": {},
   "outputs": [
    {
     "name": "stdout",
     "output_type": "stream",
     "text": [
      "2.0\n",
      "20000.0\n",
      "2.0\n",
      "2.0\n"
     ]
    }
   ],
   "source": [
    "img2 = (img + 1) * 2\n",
    "img3 = img / 2\n",
    "img4 = img ** 2\n",
    "\n",
    "print(img2.mean())\n",
    "print(img2.sum())\n",
    "print(img2.min())\n",
    "print(img2.max())"
   ]
  },
  {
   "cell_type": "markdown",
   "metadata": {},
   "source": [
    "### Multiple images\n",
    "\n",
    "It is also possible to do basic math with more than one image. Note, however, that math operations on two images are only valid if those two images are in the same \"physical space\" -- i.e., they have the same origin, spacing, and orientation. \n",
    "\n",
    "If they are not, you must put them in the same physical space before operating on them. Luckily, this is rarely an issue - especially if you are creating images from numpy arrays.\n"
   ]
  },
  {
   "cell_type": "code",
   "execution_count": 13,
   "metadata": {},
   "outputs": [
    {
     "name": "stdout",
     "output_type": "stream",
     "text": [
      "1.0\n",
      "2.0\n",
      "3.0\n"
     ]
    }
   ],
   "source": [
    "img = ants.from_numpy(np.ones((128,128)))\n",
    "img2 = ants.from_numpy(np.ones((128,128))*2)\n",
    "\n",
    "print(img.mean())\n",
    "print(img2.mean())\n",
    "\n",
    "img3 = img + img2\n",
    "print(img3.mean())"
   ]
  },
  {
   "cell_type": "markdown",
   "metadata": {},
   "source": [
    "## Indexing\n",
    "\n",
    "Indexing medical images can be done similarly to arrays. The important thing to remember is that indexing an ants images returns an ants image. Any metadata, such as the image's origin, will be correctly adjusted based on the indexing.\n"
   ]
  },
  {
   "cell_type": "code",
   "execution_count": 17,
   "metadata": {},
   "outputs": [
    {
     "name": "stdout",
     "output_type": "stream",
     "text": [
      "(128, 128)\n",
      "<class 'numpy.ndarray'>\n",
      "(20, 20)\n"
     ]
    }
   ],
   "source": [
    "img = ants.from_numpy(np.ones((128,128)))\n",
    "img2 = img[:20, :20]\n",
    "\n",
    "print(img.shape)\n",
    "print(img2.shape)"
   ]
  },
  {
   "cell_type": "markdown",
   "metadata": {},
   "source": [
    "## Summary\n",
    "\n",
    "If you have used numpy before, then the transition to using ants should be quite smooth. In general, we have worked to make sure that functions in ants follow what you would expect from numpy - within reason. \n",
    "\n",
    "With images, there are some additional meta-data properties to keep in mind compared to simple arrays. Not being aware of these properties can potentially cause issues when you go to train models. "
   ]
  }
 ],
 "metadata": {
  "kernelspec": {
   "display_name": ".venv",
   "language": "python",
   "name": "python3"
  },
  "language_info": {
   "codemirror_mode": {
    "name": "ipython",
    "version": 3
   },
   "file_extension": ".py",
   "mimetype": "text/x-python",
   "name": "python",
   "nbconvert_exporter": "python",
   "pygments_lexer": "ipython3",
   "version": "3.11.5"
  }
 },
 "nbformat": 4,
 "nbformat_minor": 2
}
