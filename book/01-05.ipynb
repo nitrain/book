{
 "cells": [
  {
   "cell_type": "markdown",
   "metadata": {},
   "source": [
    "# Spatial operations\n",
    "\n",
    ":::{warning}\n",
    "This chapter is still an early draft and is likely to significantly change in the near future. \n",
    ":::\n",
    "\n",
    "This chapter will give an overview of spatial operations."
   ]
  },
  {
   "cell_type": "code",
   "execution_count": null,
   "metadata": {},
   "outputs": [],
   "source": []
  }
 ],
 "metadata": {
  "language_info": {
   "name": "python"
  }
 },
 "nbformat": 4,
 "nbformat_minor": 2
}
