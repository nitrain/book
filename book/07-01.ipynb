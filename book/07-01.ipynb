{
 "cells": [
  {
   "cell_type": "markdown",
   "metadata": {},
   "source": [
    "# Overview\n",
    "\n",
    "All of the sections up to this point have taught you how to create, train, and explain medical imaging AI models. Once you have a finalized model and are happy with how you've explained and visualized it, there is one final thing to do: share your results.\n",
    "\n",
    "This section gives some general advice on the best ways to share your model with the community and also how to actually put your model into production. Some specific ways of achieving these goals with nitrain and the nitrain.dev platform are also presented.\n",
    "\n",
    "Sharing and deploying your model in a reproducible and understandable way is incredibly important. It is always a shame when a great model is developed only to be forgotten about a few months later. Progress is made by building upon others' work, so it is noble to share your hard work with the community."
   ]
  },
  {
   "cell_type": "markdown",
   "metadata": {},
   "source": []
  }
 ],
 "metadata": {
  "language_info": {
   "name": "python"
  }
 },
 "nbformat": 4,
 "nbformat_minor": 2
}
