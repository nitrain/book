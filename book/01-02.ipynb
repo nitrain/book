{
 "cells": [
  {
   "cell_type": "markdown",
   "metadata": {},
   "source": [
    "# Loading and creating\n",
    "\n",
    "As mentioned in the previous chapter, there are multiple libraries for reading and writing medical images. We will use nitrain-image because it is fast and allows for seamless interaction with numpy and tensor libraries like pytorch. \n",
    "\n",
    "This chapter will teach you how to read images from file or create them from arrays. You will learn the basics about how medical images are typically structured. What may surprise you is that medical images are not just arrays. They have important metadata associated with them -- for example, orientation, spacing, and direction -- that helps you know more about how the image is situated in physical space.\n",
    "\n",
    "Besides reading images, you will also learn how to save images. This is important because you will need to save images that you predict from your model or that you transform during processing steps.\n",
    "\n",
    "## Loading from file\n",
    "\n",
    "Reading an image from file is simple with nitrain-image, as all you need is the `load` function."
   ]
  },
  {
   "cell_type": "code",
   "execution_count": 2,
   "metadata": {},
   "outputs": [],
   "source": [
    "import ntimage as nti\n",
    "filepath = nti.example_data('r16') # get path to an image included in ants\n",
    "img = nti.load(filepath)"
   ]
  },
  {
   "cell_type": "markdown",
   "metadata": {},
   "source": [
    "Once you've read in an image, you can print out the image to the console to see important information about the image's data and structure."
   ]
  },
  {
   "cell_type": "code",
   "execution_count": 3,
   "metadata": {},
   "outputs": [
    {
     "name": "stdout",
     "output_type": "stream",
     "text": [
      "NTImage (uint8)\n",
      "     Dimensions : (256, 256)\n",
      "     Spacing    : (1.0, 1.0)\n",
      "     Origin     : (0.0, 0.0)\n",
      "     Direction  : [1. 0. 0. 1.]\n",
      "\n"
     ]
    }
   ],
   "source": [
    "print(img)"
   ]
  },
  {
   "cell_type": "markdown",
   "metadata": {},
   "source": [
    "Notice how there is more than just the dimension and datatype of the image as you would see in a standard numpy array. We also have spacing, origin, and direction. This information tells you a lot about the image and is important for many image processing tasks."
   ]
  },
  {
   "cell_type": "markdown",
   "metadata": {},
   "source": [
    "## Creating images\n",
    "\n",
    "You won't always be reading an image from file. Sometimes you need to create an image in memory. The nitrain-image library lets you create new images similarly to how you would create numpy arrays, and you can even create images from actual numpy arrays.\n",
    "\n",
    "### From numpy\n",
    "\n",
    "If you already have a numpy array, then you can use the `from_numpy` function to create an ntimage from it."
   ]
  },
  {
   "cell_type": "code",
   "execution_count": 4,
   "metadata": {},
   "outputs": [
    {
     "name": "stdout",
     "output_type": "stream",
     "text": [
      "NTImage (float64)\n",
      "     Dimensions : (128, 128)\n",
      "     Spacing    : (1.0, 1.0)\n",
      "     Origin     : (0.0, 0.0)\n",
      "     Direction  : [1. 0. 0. 1.]\n",
      "\n"
     ]
    }
   ],
   "source": [
    "import numpy as np\n",
    "arr = np.random.randn(128, 128)\n",
    "img = nti.from_numpy(arr)\n",
    "print(img)"
   ]
  },
  {
   "cell_type": "markdown",
   "metadata": {},
   "source": [
    "### Back to numpy\n",
    "\n",
    "Images from ants interoperate closely with numpy. Although the underlying data is not stored in numpy, it is easy to convert ntimages to numpy arrays. This makes it possible to convert an ntimage to numpy, perform some operation on it, then convert it back to an ntimage. "
   ]
  },
  {
   "cell_type": "code",
   "execution_count": 5,
   "metadata": {},
   "outputs": [
    {
     "name": "stdout",
     "output_type": "stream",
     "text": [
      "[[-1.70119856  2.36674745  0.54990317 ...  0.11860316  0.5466833\n",
      "   0.4271984 ]\n",
      " [-1.16599835  0.81131382 -0.80407938 ...  0.55046708 -1.89120119\n",
      "  -0.21804467]\n",
      " [-0.12174423 -0.08950492 -0.63609025 ... -0.19781089 -0.11252012\n",
      "   1.32037708]\n",
      " ...\n",
      " [ 1.09863735 -0.0668419   1.36376286 ... -2.41518246  0.61641948\n",
      "   0.49730845]\n",
      " [-0.57759411 -1.00729059 -1.92534477 ... -0.59611877 -2.09875159\n",
      "   1.17947413]\n",
      " [ 1.77575318  0.43175813  1.04905482 ... -1.77330389 -0.1901543\n",
      "  -1.75923956]]\n"
     ]
    }
   ],
   "source": [
    "arr = img.numpy()\n",
    "print(arr)"
   ]
  },
  {
   "cell_type": "markdown",
   "metadata": {},
   "source": [
    "Notice that you see a lot of zeros in the array. Lots of \"blank\" space around the edges is a common feature of medical images that you will learn to handle in future chapters. \n",
    "\n",
    "The relationship with numpy goes the other way, as well. You can easily create an ntimage from a numpy array."
   ]
  },
  {
   "cell_type": "code",
   "execution_count": 6,
   "metadata": {},
   "outputs": [
    {
     "name": "stdout",
     "output_type": "stream",
     "text": [
      "NTImage (float64)\n",
      "     Dimensions : (128, 128)\n",
      "     Spacing    : (1.0, 1.0)\n",
      "     Origin     : (0.0, 0.0)\n",
      "     Direction  : [1. 0. 0. 1.]\n",
      "\n"
     ]
    }
   ],
   "source": [
    "import numpy as np\n",
    "arr = np.random.randn(128,128)\n",
    "img = nti.from_numpy(arr)\n",
    "print(img)"
   ]
  },
  {
   "cell_type": "markdown",
   "metadata": {},
   "source": [
    "If you want a numpy array from an image, you will almost always use `img.numpy()`. However, you can also create something called a `view` for you image. A view gives you a numpy array from your image, but the data is not copied. If you operate on a view, it will truly change the underlying data of your image. Views are efficient to create, but you should use caution with them. Here is an example."
   ]
  },
  {
   "cell_type": "code",
   "execution_count": 7,
   "metadata": {},
   "outputs": [
    {
     "name": "stdout",
     "output_type": "stream",
     "text": [
      "Mean:  -0.005541435683317547\n",
      "Mean:  9.994458564316684\n"
     ]
    }
   ],
   "source": [
    "print('Mean: ', img.mean())\n",
    "varr = img.view()\n",
    "varr += 10\n",
    "print('Mean: ', img.mean())"
   ]
  },
  {
   "cell_type": "markdown",
   "metadata": {},
   "source": [
    "Notice how we did not operate on the ntimage object. We adding 10 to the numpy array view representing the real underlying data for the image. The result was that when we calculated the mean of the image, it increased by 10. Again, operating on views is almost never necessary, but it can be useful in special circumstances."
   ]
  },
  {
   "cell_type": "markdown",
   "metadata": {},
   "source": [
    "### From scratch\n",
    "\n",
    "You can also create images \"from scratch\" directly in nitrain-image without going through numpy arrays. These functions can be useful for many types of operations and for testing workflows."
   ]
  },
  {
   "cell_type": "code",
   "execution_count": 13,
   "metadata": {},
   "outputs": [],
   "source": [
    "img = nti.ones((128,128))\n",
    "img = nti.zeros((128,128))"
   ]
  },
  {
   "cell_type": "markdown",
   "metadata": {},
   "source": [
    "## Writing to file\n",
    "\n",
    "When you want to save an image to file, you can use the `save` function to do so. All common formats such as dicom and others are supported. Since we are using brain images in this example, we will use nifti."
   ]
  },
  {
   "cell_type": "code",
   "execution_count": 8,
   "metadata": {},
   "outputs": [],
   "source": [
    "from tempfile import NamedTemporaryFile\n",
    "filepath = NamedTemporaryFile(suffix='.nii.gz')\n",
    "nti.save(img, filepath.name)"
   ]
  },
  {
   "cell_type": "markdown",
   "metadata": {},
   "source": [
    "## Summary\n",
    "\n",
    "In this chapter, you learned how to read images from file using the nitrain-image library. Nitrain-image is fast and flexible when it comes to reading medical images. It also works well with numpy and other tensor libraries, as we showed here. Moreover, you learned how to save images to file. This will be useful when you want to save results down the line."
   ]
  }
 ],
 "metadata": {
  "kernelspec": {
   "display_name": ".venv",
   "language": "python",
   "name": "python3"
  },
  "language_info": {
   "codemirror_mode": {
    "name": "ipython",
    "version": 3
   },
   "file_extension": ".py",
   "mimetype": "text/x-python",
   "name": "python",
   "nbconvert_exporter": "python",
   "pygments_lexer": "ipython3",
   "version": "3.11.5"
  }
 },
 "nbformat": 4,
 "nbformat_minor": 2
}
