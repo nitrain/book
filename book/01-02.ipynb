{
 "cells": [
  {
   "cell_type": "markdown",
   "metadata": {},
   "source": [
    "# Reading and writing\n",
    "\n",
    "As mentioned in the previous chapter, there are multiple libraries for reading and writing medical images. We will use ants because it is fast and allows for seamless interaction with numpy and tensor libraries like pytorch. \n",
    "\n",
    "This chapter will teach you how to read images from file or create them from arrays. You will learn the basics about how medical images are typically structured. What may surprise you is that medical images are not just dumb arrays. They have important metadata associated with them -- for example, orientation, spacing, and direction -- that helps you know more about the images.\n",
    "\n",
    "Besides reading images, you will also learn how to save images. This is important because you will need to save images that you predict from your model or that you transform during processing steps.\n",
    "\n",
    "## Loading from file\n",
    "\n",
    "Reading an image from file is simple with ants, as all you need is the `image_read` function."
   ]
  },
  {
   "cell_type": "code",
   "execution_count": 1,
   "metadata": {},
   "outputs": [],
   "source": [
    "import ants\n",
    "filepath = ants.get_data('r16') # get path to an image included in ants\n",
    "img = ants.image_read(filepath)"
   ]
  },
  {
   "cell_type": "markdown",
   "metadata": {},
   "source": [
    "Once you've read in an image, you can print out the image to the console to see important information about the image's data and structure."
   ]
  },
  {
   "cell_type": "code",
   "execution_count": 2,
   "metadata": {},
   "outputs": [
    {
     "name": "stdout",
     "output_type": "stream",
     "text": [
      "ANTsImage\n",
      "\t Pixel Type : float (float32)\n",
      "\t Components : 1\n",
      "\t Dimensions : (256, 256)\n",
      "\t Spacing    : (1.0, 1.0)\n",
      "\t Origin     : (0.0, 0.0)\n",
      "\t Direction  : [1. 0. 0. 1.]\n",
      "\n"
     ]
    }
   ],
   "source": [
    "print(img)"
   ]
  },
  {
   "cell_type": "markdown",
   "metadata": {},
   "source": [
    "Notice how there is more than just the dimension and datatype of the image as you would see in a standard numpy array. We also have spacing, origin, and direction. This information tells you a lot about the image and is important for many image processing tasks.\n",
    "\n",
    "## Converting to numpy\n",
    "\n",
    "Images from ants interoperate closely with numpy. Although the underlying data is not stored in numpy, it is easy to convert ants images to numpy arrays:"
   ]
  },
  {
   "cell_type": "code",
   "execution_count": 3,
   "metadata": {},
   "outputs": [
    {
     "name": "stdout",
     "output_type": "stream",
     "text": [
      "[[0. 0. 0. ... 0. 0. 0.]\n",
      " [0. 0. 0. ... 0. 0. 0.]\n",
      " [0. 0. 0. ... 0. 0. 0.]\n",
      " ...\n",
      " [0. 0. 0. ... 0. 0. 0.]\n",
      " [0. 0. 0. ... 0. 0. 0.]\n",
      " [0. 0. 0. ... 0. 0. 0.]]\n"
     ]
    }
   ],
   "source": [
    "arr = img.numpy()\n",
    "print(arr)"
   ]
  },
  {
   "cell_type": "markdown",
   "metadata": {},
   "source": [
    "Notice that you see a lot of zeros in the array. Lots of \"blank\" space around the edges is a common feature of medical images that you will learn to handle in future chapters. \n",
    "\n",
    "The relationship with numpy goes the other way, as well. You can easily create an ants image from a numpy array."
   ]
  },
  {
   "cell_type": "code",
   "execution_count": 4,
   "metadata": {},
   "outputs": [
    {
     "name": "stdout",
     "output_type": "stream",
     "text": [
      "ANTsImage\n",
      "\t Pixel Type : float (float32)\n",
      "\t Components : 1\n",
      "\t Dimensions : (128, 128)\n",
      "\t Spacing    : (1.0, 1.0)\n",
      "\t Origin     : (0.0, 0.0)\n",
      "\t Direction  : [1. 0. 0. 1.]\n",
      "\n"
     ]
    }
   ],
   "source": [
    "import numpy as np\n",
    "arr = np.random.randn(128,128)\n",
    "img = ants.from_numpy(arr)\n",
    "print(img)"
   ]
  },
  {
   "cell_type": "markdown",
   "metadata": {},
   "source": [
    "## Writing images to file\n",
    "\n",
    "When you want to save an image to file, you can use the `image_write` function in ants to do so. All common formats such as dicom and others are supported. Since we are using brain images in this example, we will use nifti."
   ]
  },
  {
   "cell_type": "code",
   "execution_count": 8,
   "metadata": {},
   "outputs": [],
   "source": [
    "from tempfile import NamedTemporaryFile\n",
    "filepath = NamedTemporaryFile(suffix='.nii.gz')\n",
    "ants.image_write(img, filepath.name)"
   ]
  },
  {
   "cell_type": "markdown",
   "metadata": {},
   "source": [
    "## Summary\n",
    "\n",
    "In this chapter, you learned how to read images from file using the ants library. Ants is fast and flexible when it comes to reading medical images. It also works well with numpy and other tensor libraries, as we showed here. Moreover, you learned how to save images to file. This will be useful when you want to save results down the line."
   ]
  },
  {
   "cell_type": "markdown",
   "metadata": {},
   "source": []
  }
 ],
 "metadata": {
  "kernelspec": {
   "display_name": ".venv",
   "language": "python",
   "name": "python3"
  },
  "language_info": {
   "codemirror_mode": {
    "name": "ipython",
    "version": 3
   },
   "file_extension": ".py",
   "mimetype": "text/x-python",
   "name": "python",
   "nbconvert_exporter": "python",
   "pygments_lexer": "ipython3",
   "version": "3.11.5"
  }
 },
 "nbformat": 4,
 "nbformat_minor": 2
}
