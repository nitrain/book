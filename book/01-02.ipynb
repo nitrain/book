{
 "cells": [
  {
   "cell_type": "markdown",
   "metadata": {},
   "source": [
    "# Reading and writing\n",
    "\n",
    ":::{note}\n",
    "You are viewing a working draft with expected completion in early 2025.\n",
    ":::\n",
    "\n",
    "As mentioned in the previous chapter, there are multiple libraries for reading and writing medical images. We will use ants because it is fast and allows for seamless interaction with numpy and tensor libraries like pytorch. \n",
    "\n",
    "This chapter will teach you how to read images from file or create them from arrays. You will learn the basics about how medical images are typically structured. What may surprise you is that medical images are not just dumb arrays. They have important metadata associated with them -- for example, orientation, spacing, and direction -- that helps you know more about the images.\n",
    "\n",
    "Besides reading images, you will also learn how to save images. This is important because you will need to save images that you predict from your model or that you transform during processing steps.\n",
    "\n",
    "## Loading from file\n",
    "\n",
    "Reading an image from file is simple with ants, as all you need is the `image_read` function."
   ]
  },
  {
   "cell_type": "code",
   "execution_count": 1,
   "metadata": {},
   "outputs": [],
   "source": [
    "import ants\n",
    "filepath = ants.get_data('r16') # get path to an image included in ants\n",
    "img = ants.image_read(filepath)"
   ]
  },
  {
   "cell_type": "markdown",
   "metadata": {},
   "source": [
    "Once you've read in an image, you can print out the image to the console to see important information about the image's data and structure."
   ]
  },
  {
   "cell_type": "code",
   "execution_count": 2,
   "metadata": {},
   "outputs": [
    {
     "name": "stdout",
     "output_type": "stream",
     "text": [
      "ANTsImage\n",
      "\t Pixel Type : float (float32)\n",
      "\t Components : 1\n",
      "\t Dimensions : (256, 256)\n",
      "\t Spacing    : (1.0, 1.0)\n",
      "\t Origin     : (0.0, 0.0)\n",
      "\t Direction  : [1. 0. 0. 1.]\n",
      "\n"
     ]
    }
   ],
   "source": [
    "print(img)"
   ]
  },
  {
   "cell_type": "markdown",
   "metadata": {},
   "source": [
    "Notice how there is more than just the dimension and datatype of the image as you would see in a standard numpy array. We also have spacing, origin, and direction. This information tells you a lot about the image and is important for many image processing tasks."
   ]
  },
  {
   "cell_type": "markdown",
   "metadata": {},
   "source": [
    "## Creating images\n",
    "\n",
    "You won't always be reading an image from file. Sometimes you need to create an image in memory. The ants library lets you create new images similarly to how you would create numpy arrays, and you can even create images from actual numpy arrays."
   ]
  },
  {
   "cell_type": "code",
   "execution_count": 3,
   "metadata": {},
   "outputs": [
    {
     "name": "stdout",
     "output_type": "stream",
     "text": [
      "ANTsImage\n",
      "\t Pixel Type : float (float32)\n",
      "\t Components : 1\n",
      "\t Dimensions : (128, 128)\n",
      "\t Spacing    : (1.0, 1.0)\n",
      "\t Origin     : (0.0, 0.0)\n",
      "\t Direction  : [1. 0. 0. 1.]\n",
      "\n"
     ]
    }
   ],
   "source": [
    "import numpy as np\n",
    "arr = np.random.randn(128, 128)\n",
    "img = ants.from_numpy(arr)\n",
    "print(img)"
   ]
  },
  {
   "cell_type": "markdown",
   "metadata": {},
   "source": [
    "### Converting to numpy\n",
    "\n",
    "Images from ants interoperate closely with numpy. Although the underlying data is not stored in numpy, it is easy to convert ants images to numpy arrays:"
   ]
  },
  {
   "cell_type": "code",
   "execution_count": 4,
   "metadata": {},
   "outputs": [
    {
     "name": "stdout",
     "output_type": "stream",
     "text": [
      "[[ 1.44215     0.24286392 -1.7112266  ... -0.59407324 -1.0708714\n",
      "   0.6226269 ]\n",
      " [-0.8921248  -1.1560677   0.5562592  ...  0.55524063  0.70035964\n",
      "   1.5985824 ]\n",
      " [ 0.36783808  0.475693   -1.3370421  ... -0.5341319  -1.2180313\n",
      "   0.85561216]\n",
      " ...\n",
      " [-0.60001856 -0.7005243   0.34312683 ...  1.7361108  -0.1935931\n",
      "  -1.9964436 ]\n",
      " [ 1.2890239  -0.73011595 -0.98334575 ...  2.3744373   0.01259981\n",
      "   0.87047046]\n",
      " [-0.22393858 -0.21793757  0.36603948 ...  1.350514   -1.0970304\n",
      "   1.4183275 ]]\n"
     ]
    }
   ],
   "source": [
    "arr = img.numpy()\n",
    "print(arr)"
   ]
  },
  {
   "cell_type": "markdown",
   "metadata": {},
   "source": [
    "Notice that you see a lot of zeros in the array. Lots of \"blank\" space around the edges is a common feature of medical images that you will learn to handle in future chapters. \n",
    "\n",
    "The relationship with numpy goes the other way, as well. You can easily create an ants image from a numpy array."
   ]
  },
  {
   "cell_type": "code",
   "execution_count": 5,
   "metadata": {},
   "outputs": [
    {
     "name": "stdout",
     "output_type": "stream",
     "text": [
      "ANTsImage\n",
      "\t Pixel Type : float (float32)\n",
      "\t Components : 1\n",
      "\t Dimensions : (128, 128)\n",
      "\t Spacing    : (1.0, 1.0)\n",
      "\t Origin     : (0.0, 0.0)\n",
      "\t Direction  : [1. 0. 0. 1.]\n",
      "\n"
     ]
    }
   ],
   "source": [
    "import numpy as np\n",
    "arr = np.random.randn(128,128)\n",
    "img = ants.from_numpy(arr)\n",
    "print(img)"
   ]
  },
  {
   "cell_type": "markdown",
   "metadata": {},
   "source": [
    "If you want a numpy array from an image, you will almost always use `img.numpy()`. However, you can also create something called a `view` for you image. A view gives you a numpy array from your image, but the data is not copied. If you operate on a view, it will truly change the underlying data of your image. Views are efficient to create, but you should use caution with them. Here is an example."
   ]
  },
  {
   "cell_type": "code",
   "execution_count": 6,
   "metadata": {},
   "outputs": [
    {
     "name": "stdout",
     "output_type": "stream",
     "text": [
      "Mean:  -0.0066225175\n",
      "Mean:  9.993378\n"
     ]
    }
   ],
   "source": [
    "print('Mean: ', img.mean())\n",
    "varr = img.view()\n",
    "varr += 10\n",
    "print('Mean: ', img.mean())"
   ]
  },
  {
   "cell_type": "markdown",
   "metadata": {},
   "source": [
    "Notice how we did not operate on the ants image object. We adding 10 to the numpy array view representing the real underlying data for the image. The result was that when we calculated the mean of the image, it increased by 10. Again, operating on views is almost never necessary, but it can be useful in special circumstances"
   ]
  },
  {
   "cell_type": "markdown",
   "metadata": {},
   "source": [
    "## Writing to file\n",
    "\n",
    "When you want to save an image to file, you can use the `image_write` function in ants to do so. All common formats such as dicom and others are supported. Since we are using brain images in this example, we will use nifti."
   ]
  },
  {
   "cell_type": "code",
   "execution_count": 7,
   "metadata": {},
   "outputs": [],
   "source": [
    "from tempfile import NamedTemporaryFile\n",
    "filepath = NamedTemporaryFile(suffix='.nii.gz')\n",
    "ants.image_write(img, filepath.name)"
   ]
  },
  {
   "cell_type": "markdown",
   "metadata": {},
   "source": [
    "## Summary\n",
    "\n",
    "In this chapter, you learned how to read images from file using the ants library. Ants is fast and flexible when it comes to reading medical images. It also works well with numpy and other tensor libraries, as we showed here. Moreover, you learned how to save images to file. This will be useful when you want to save results down the line."
   ]
  }
 ],
 "metadata": {
  "kernelspec": {
   "display_name": ".venv",
   "language": "python",
   "name": "python3"
  },
  "language_info": {
   "codemirror_mode": {
    "name": "ipython",
    "version": 3
   },
   "file_extension": ".py",
   "mimetype": "text/x-python",
   "name": "python",
   "nbconvert_exporter": "python",
   "pygments_lexer": "ipython3",
   "version": "3.11.5"
  }
 },
 "nbformat": 4,
 "nbformat_minor": 2
}
