{
 "cells": [
  {
   "cell_type": "markdown",
   "metadata": {},
   "source": [
    "# 9. Using loaders\n",
    "\n",
    "In the last section, you learned about how to map entire datasets of medical images and related meta-data from data stored in memory, locally in folders, or in the cloud. You also saw how to attached a wide variety nitrain transforms to pre-process your images every time they're returned from your dataset. The nitrain dataset paradigm will be useful to you even beyond traditional AI tasks.\n",
    "\n",
    "In this section, we will move to generating processed batches of images and related data that can actually be used to train AI models. Batches require combining data together into structures such as numpy arrays or torch tensors. One training epoch is completed when you loop over all the batches in your dataset. \n",
    "\n",
    "Generating batches is where you will apply random transforms to artificially augment your dataset. Because medical images have a quite rigid structure, we can do things such as rotate them or alter the intensity to generate \"new\" images that will increase the robustness of the AI model. \n",
    "\n",
    "Additionally, this section will introduce you to one of the most unique and useful features of nitrain called \"samplers\". Using samplers in nitrain makes it surprisingly easy to train AI models on parts of images such as 2D slices of 3D images, 2D patches of 2D images, or 3D blocks of 3D images. The process of generating slices, patches, or blocks can be quite confusing and difficult to get right, so nitrain makes this process easy."
   ]
  },
  {
   "cell_type": "markdown",
   "metadata": {},
   "source": []
  }
 ],
 "metadata": {
  "language_info": {
   "name": "python"
  }
 },
 "nbformat": 4,
 "nbformat_minor": 2
}
