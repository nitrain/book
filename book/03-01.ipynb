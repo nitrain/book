{
 "cells": [
  {
   "cell_type": "markdown",
   "metadata": {},
   "source": [
    "# 9. Introduction\n",
    "\n",
    "In the last section, you learned about how to map entire datasets of medical images and related meta-data from data stored in memory, locally in folders, or in the cloud. You also saw how to attached a wide variety nitrain transforms to pre-process your images every time they're returned from your dataset. The nitrain dataset paradigm will be useful to you even beyond traditional AI tasks.\n",
    "\n",
    "In this section, you'll learn about the following:\n",
    "\n",
    "- In [Using loaders](book.nitrain.dev/03-02), you'll learn about uing the `nitrain.Loader` class to generate basic batches of images and meta-data based on your `nitrain.Dataset` class.\n",
    "- In [Using samplers](book.nitrain.dev/03-03), you'll see what to do when you want to train on only parts of images such as 2D slices from 3D images or patches / blocks of 2D / 3D images.\n",
    "- In [Random transforms](book.nitrain.dev/03-04), you'll learn how to apply nitrain transforms to randomly alter your images in such a way that your dataset will be augmented and your models will be more robust.\n",
    "\n",
    "Generating batches of data - particularly when slices / patches / blocks of images are involved - is an area that many struggle with mastering. The nitrain framework gives you an organized and robust way to handle the most complex scenarios you'll come across."
   ]
  },
  {
   "cell_type": "markdown",
   "metadata": {},
   "source": []
  }
 ],
 "metadata": {
  "language_info": {
   "name": "python"
  }
 },
 "nbformat": 4,
 "nbformat_minor": 2
}
