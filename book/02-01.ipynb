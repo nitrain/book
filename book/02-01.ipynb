{
 "cells": [
  {
   "cell_type": "markdown",
   "metadata": {},
   "source": [
    "# 5. Introduction\n",
    "\n",
    "In the last section, you learned about how to read, operate on, and visualize individual medical images using the ANTsPy library. This section will move further by teaching you how to do similar things with entire datasets of medical images. \n",
    "\n",
    "Of course, the types of datasets that you will work with when building AI models are usually composed of more than just one image type. There can also be image classes or labels and multiple image types, and the structure of how this data is stored can vary greatly. This section will teach you how to \"map\" any type of dataset so that you can read in a diverse combination of image types and related meta-data records. \n",
    "\n",
    "This section proceeds as follows:\n",
    "\n",
    "- In [Using datasets](book.nitrain.dev/02-02), you'll learn about using the powerful Dataset class in nitrain to flexibly map collections of images.\n",
    "- In [Using readers](book.nitrain.dev/02-03), you'll be introduced to readers which let you actually read in data from various sources.\n",
    "- In [Cloud storage](book.nitrain.dev/02-04), you'll understand what to do when your dataset is not stored locally.\n",
    "- In [Applying fixed transforms](book.nitrain.dev/02-05), you'll learn how to applying nitrain transforms to preprocess your data before being returned from your nitrain dataset."
   ]
  }
 ],
 "metadata": {
  "language_info": {
   "name": "python"
  }
 },
 "nbformat": 4,
 "nbformat_minor": 2
}
