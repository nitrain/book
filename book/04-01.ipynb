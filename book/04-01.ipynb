{
 "cells": [
  {
   "cell_type": "markdown",
   "metadata": {},
   "source": [
    "# Overview\n",
    "\n",
    "In the last section, you learned about how to map generate augmented batches of images from your datasets regardless of whether the data is stored in memory, locally in folders, or in the cloud. You also saw how samplers can be used to generate batches from only parts of images so that training is more manageable.\n",
    "\n",
    "In this section, you will learn about creating and using AI models. You will learn about the large collection of popular architectures available in nitrain that can be used as a blueprint to create models. These architectures, along with the pre-trained models available in nitrain, can get you quite far if you are performing standard medical imaging AI tasks.\n",
    "\n",
    "Moreover, this section will provide a basic introduction to creating models in the frameworks supported by nitrain: Pytorch, Keras, and Tensorflow. However, if you want to create complex or unique models from scratch in those frameworks then you will need to consult their learning resources as well."
   ]
  },
  {
   "cell_type": "markdown",
   "metadata": {},
   "source": []
  }
 ],
 "metadata": {
  "language_info": {
   "name": "python"
  }
 },
 "nbformat": 4,
 "nbformat_minor": 2
}
