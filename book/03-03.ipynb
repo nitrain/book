{
 "cells": [
  {
   "cell_type": "markdown",
   "metadata": {},
   "source": [
    "# 11. Using samplers\n",
    "\n",
    ":::{warning}\n",
    "This chapter is an unfinished draft. I recommend skipping it for now since it is likely to change.\n",
    ":::"
   ]
  },
  {
   "cell_type": "markdown",
   "metadata": {},
   "source": []
  }
 ],
 "metadata": {
  "language_info": {
   "name": "python"
  }
 },
 "nbformat": 4,
 "nbformat_minor": 2
}
