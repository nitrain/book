{
 "cells": [
  {
   "cell_type": "markdown",
   "metadata": {},
   "source": [
    "# Introduction\n",
    "\n",
    "In the last section, you learned about how to read, operate on, and visualize individual medical images using the ANTsPy library. This section will move further by teaching you how to do similar things with entire datasets of medical images. \n",
    "\n",
    "Of course, the types of datasets that you will work with when building AI models are usually composed of more than just one image type. There can also be image classes or labels and multiple image types, and the structure of how this data is stored can vary greatly. This section will teach you how to \"map\" any type of dataset so that you can read in a diverse combination of image types and related meta-data records. \n",
    "\n",
    "This section will address mapping datasets from data already loaded in memory, from data stored locally in folder, and also from data stored in the cloud. Moreover, this section will be your first introduction to nitrain transforms as you learn how to attach pre-processing functions to your datasets so that your images are loaded into memory in a ready-to-analyze state."
   ]
  },
  {
   "cell_type": "code",
   "execution_count": null,
   "metadata": {},
   "outputs": [],
   "source": []
  }
 ],
 "metadata": {
  "language_info": {
   "name": "python"
  }
 },
 "nbformat": 4,
 "nbformat_minor": 2
}
