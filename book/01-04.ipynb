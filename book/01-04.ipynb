{
 "cells": [
  {
   "cell_type": "markdown",
   "metadata": {},
   "source": [
    "# Image operations\n",
    "\n",
    "Image operations are functions unique to medical imaging without a similar counterpart in numpy. Such functions exist because medical images (and images in general) have a more meaningful and structured interpretation compared to normal arrays. "
   ]
  },
  {
   "cell_type": "markdown",
   "metadata": {},
   "source": [
    "## Morphology\n",
    "\n",
    "Key image operations include morphological functions such as opening and closing. These functions are particularly useful when you are working with segmentation images with discrete labels or masks. "
   ]
  },
  {
   "cell_type": "markdown",
   "metadata": {},
   "source": [
    "## Bias correction"
   ]
  },
  {
   "cell_type": "markdown",
   "metadata": {},
   "source": [
    "## Registration"
   ]
  },
  {
   "cell_type": "markdown",
   "metadata": {},
   "source": [
    "## Segmentation"
   ]
  }
 ],
 "metadata": {
  "language_info": {
   "name": "python"
  }
 },
 "nbformat": 4,
 "nbformat_minor": 2
}
