{
 "cells": [
  {
   "cell_type": "markdown",
   "metadata": {},
   "source": [
    "# Intensity operations\n",
    "\n",
    ":::{warning}\n",
    "This chapter is still an early draft and is likely to significantly change in the near future. \n",
    ":::\n",
    "\n",
    "This chapter will give an overview of intensity operations."
   ]
  },
  {
   "cell_type": "code",
   "execution_count": null,
   "metadata": {},
   "outputs": [],
   "source": []
  }
 ],
 "metadata": {
  "language_info": {
   "name": "python"
  }
 },
 "nbformat": 4,
 "nbformat_minor": 2
}
