{
 "cells": [
  {
   "cell_type": "markdown",
   "metadata": {},
   "source": [
    "# Using trainers\n",
    "\n",
    "Creating models using architectures or pre-trained models in nitrain was the focus of the last section. You also received a brief overview of creating models from scratch in Pytorch, Keras, and Tensorflow.\n",
    "\n",
    "Now it is time for the fun part! In this section, you will finally get to put everything together to train AI models in nitrain. As with model creation, nitrain provides a way to make basic model training easy through the trainer classes. You will also see how to perform more complex training using custom training loops.\n",
    "\n",
    "Training models is most often done locally in nitrain, but it is also possible to use nitrain to train models in the cloud. Nitrain supports training with your own cloud resources, but also makes available cheap cloud resources from nitrain.dev that you can use."
   ]
  },
  {
   "cell_type": "markdown",
   "metadata": {},
   "source": []
  }
 ],
 "metadata": {
  "language_info": {
   "name": "python"
  }
 },
 "nbformat": 4,
 "nbformat_minor": 2
}
