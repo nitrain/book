{
 "cells": [
  {
   "cell_type": "markdown",
   "metadata": {},
   "source": [
    "# 8. Fixed transforms\n",
    "\n",
    ":::{warning}\n",
    "This chapter is an unfinished draft. I recommend skipping it for now since it is likely to change.\n",
    ":::\n",
    "\n",
    "This section until this point has been focused on mapping collections of images and meta-data in whatever format is needed and wherever they may be. However, we have always assumed until now that the images returned from the dataset are in perfect condition and harmonized with each other. \n",
    "\n",
    "Unfortunately, that is rarely the case. We often work with images that are a variety of imperfections that we must correct before reading them in from their raw form. This can include images have different shapes or orientations from one other, having unnormalized intensity values with outliers, or simply not being in the format needed for our AI models.\n",
    "\n",
    "You can call these types of preprocessing steps as \"fixed transforms\". They are fixed because they are deterministic and will give the same result regardless of how many times they're applied to the image. "
   ]
  },
  {
   "cell_type": "markdown",
   "metadata": {},
   "source": [
    "## Prerequisites\n",
    "\n",
    "In this chapter, we will specifically use the readers and transforms modules from nitrain along with ants and numpy to create images. We will only work with images already loaded in memory in this chapter, but keep in mind that there would be no difference if you use other types of readers."
   ]
  },
  {
   "cell_type": "code",
   "execution_count": 1,
   "metadata": {},
   "outputs": [],
   "source": [
    "import nitrain as nt\n",
    "from nitrain import readers, transforms as tx\n",
    "import ants\n",
    "import numpy as np"
   ]
  },
  {
   "cell_type": "markdown",
   "metadata": {},
   "source": [
    "## Individual transforms\n",
    "\n",
    "We will start by learning how to apply transforms to images individually."
   ]
  },
  {
   "cell_type": "markdown",
   "metadata": {},
   "source": [
    "## Composing transforms\n",
    "\n",
    "If you want to apply multiple transforms in a row, then you can compose them together in a list. It is good practice to compose transforms because it can be faster and save memory."
   ]
  },
  {
   "cell_type": "markdown",
   "metadata": {},
   "source": [
    "## Labels\n",
    "\n",
    "In the case where you have multiple readers as inputs or outputs, you may want to apply a transform to only one of the readers. This is possible by using (or at least understanding) the way readers are labelled."
   ]
  },
  {
   "cell_type": "markdown",
   "metadata": {},
   "source": [
    "## Multi-image transforms\n",
    "\n",
    "With nitrain datasets, it's also possible to apply transforms to multiple readers together. This can be useful if you have transforms that rely on a \"reference\" image, such as registering all images to a target template."
   ]
  },
  {
   "cell_type": "markdown",
   "metadata": {},
   "source": [
    "## Custom transforms\n",
    "\n",
    "If you don't see the transform that you need, you can use the `tx.CustomFunction` transform to pass in a user-defined function to be applied as a transform."
   ]
  },
  {
   "cell_type": "markdown",
   "metadata": {},
   "source": [
    "## Summary\n",
    "\n",
    "In this chapter, you learned about applying fixed transforms to your datasets. With nitrain transforms, it's possible to apply transforms in arbitrary order and to multiple images at once.\n",
    "\n",
    "It's important to identify deterministic, preprocessing transforms and distinguish them from random, augmentation transforms (which you'll learn about later) because we can cache the preprocessed images to speed things up. "
   ]
  },
  {
   "cell_type": "markdown",
   "metadata": {},
   "source": []
  }
 ],
 "metadata": {
  "kernelspec": {
   "display_name": "Python 3",
   "language": "python",
   "name": "python3"
  },
  "language_info": {
   "codemirror_mode": {
    "name": "ipython",
    "version": 3
   },
   "file_extension": ".py",
   "mimetype": "text/x-python",
   "name": "python",
   "nbconvert_exporter": "python",
   "pygments_lexer": "ipython3",
   "version": "3.11.5"
  }
 },
 "nbformat": 4,
 "nbformat_minor": 2
}
